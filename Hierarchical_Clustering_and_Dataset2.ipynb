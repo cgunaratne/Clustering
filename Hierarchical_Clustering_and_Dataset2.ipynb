{
  "nbformat": 4,
  "nbformat_minor": 0,
  "metadata": {
    "colab": {
      "provenance": []
    },
    "kernelspec": {
      "name": "python3",
      "display_name": "Python 3"
    },
    "language_info": {
      "name": "python"
    },
    "gpuClass": "standard"
  },
  "cells": [
    {
      "cell_type": "code",
      "execution_count": null,
      "metadata": {
        "id": "gAEpWfmIdqJ-"
      },
      "outputs": [],
      "source": [
        "import pandas as pd;\n",
        "from google.colab import files\n",
        "\n",
        "import io\n",
        "\n",
        "import numpy as np\n",
        "import matplotlib.pyplot as plt\n",
        "import pandas as pd\n",
        "from mpl_toolkits.mplot3d import Axes3D\n",
        "from scipy.cluster.hierarchy import dendrogram, linkage\n",
        "from scipy.spatial.distance import pdist\n",
        "from sklearn.metrics.pairwise import pairwise_distances"
      ]
    },
    {
      "cell_type": "code",
      "source": [
        "uploaded = files.upload()"
      ],
      "metadata": {
        "id": "mWLnDJS7d2Uj",
        "colab": {
          "base_uri": "https://localhost:8080/",
          "height": 73
        },
        "outputId": "900d52fb-a668-4e43-f1c6-1edd78612de7"
      },
      "execution_count": null,
      "outputs": [
        {
          "output_type": "display_data",
          "data": {
            "text/plain": [
              "<IPython.core.display.HTML object>"
            ],
            "text/html": [
              "\n",
              "     <input type=\"file\" id=\"files-f02646e7-b811-4430-9f92-094f016fe95f\" name=\"files[]\" multiple disabled\n",
              "        style=\"border:none\" />\n",
              "     <output id=\"result-f02646e7-b811-4430-9f92-094f016fe95f\">\n",
              "      Upload widget is only available when the cell has been executed in the\n",
              "      current browser session. Please rerun this cell to enable.\n",
              "      </output>\n",
              "      <script>// Copyright 2017 Google LLC\n",
              "//\n",
              "// Licensed under the Apache License, Version 2.0 (the \"License\");\n",
              "// you may not use this file except in compliance with the License.\n",
              "// You may obtain a copy of the License at\n",
              "//\n",
              "//      http://www.apache.org/licenses/LICENSE-2.0\n",
              "//\n",
              "// Unless required by applicable law or agreed to in writing, software\n",
              "// distributed under the License is distributed on an \"AS IS\" BASIS,\n",
              "// WITHOUT WARRANTIES OR CONDITIONS OF ANY KIND, either express or implied.\n",
              "// See the License for the specific language governing permissions and\n",
              "// limitations under the License.\n",
              "\n",
              "/**\n",
              " * @fileoverview Helpers for google.colab Python module.\n",
              " */\n",
              "(function(scope) {\n",
              "function span(text, styleAttributes = {}) {\n",
              "  const element = document.createElement('span');\n",
              "  element.textContent = text;\n",
              "  for (const key of Object.keys(styleAttributes)) {\n",
              "    element.style[key] = styleAttributes[key];\n",
              "  }\n",
              "  return element;\n",
              "}\n",
              "\n",
              "// Max number of bytes which will be uploaded at a time.\n",
              "const MAX_PAYLOAD_SIZE = 100 * 1024;\n",
              "\n",
              "function _uploadFiles(inputId, outputId) {\n",
              "  const steps = uploadFilesStep(inputId, outputId);\n",
              "  const outputElement = document.getElementById(outputId);\n",
              "  // Cache steps on the outputElement to make it available for the next call\n",
              "  // to uploadFilesContinue from Python.\n",
              "  outputElement.steps = steps;\n",
              "\n",
              "  return _uploadFilesContinue(outputId);\n",
              "}\n",
              "\n",
              "// This is roughly an async generator (not supported in the browser yet),\n",
              "// where there are multiple asynchronous steps and the Python side is going\n",
              "// to poll for completion of each step.\n",
              "// This uses a Promise to block the python side on completion of each step,\n",
              "// then passes the result of the previous step as the input to the next step.\n",
              "function _uploadFilesContinue(outputId) {\n",
              "  const outputElement = document.getElementById(outputId);\n",
              "  const steps = outputElement.steps;\n",
              "\n",
              "  const next = steps.next(outputElement.lastPromiseValue);\n",
              "  return Promise.resolve(next.value.promise).then((value) => {\n",
              "    // Cache the last promise value to make it available to the next\n",
              "    // step of the generator.\n",
              "    outputElement.lastPromiseValue = value;\n",
              "    return next.value.response;\n",
              "  });\n",
              "}\n",
              "\n",
              "/**\n",
              " * Generator function which is called between each async step of the upload\n",
              " * process.\n",
              " * @param {string} inputId Element ID of the input file picker element.\n",
              " * @param {string} outputId Element ID of the output display.\n",
              " * @return {!Iterable<!Object>} Iterable of next steps.\n",
              " */\n",
              "function* uploadFilesStep(inputId, outputId) {\n",
              "  const inputElement = document.getElementById(inputId);\n",
              "  inputElement.disabled = false;\n",
              "\n",
              "  const outputElement = document.getElementById(outputId);\n",
              "  outputElement.innerHTML = '';\n",
              "\n",
              "  const pickedPromise = new Promise((resolve) => {\n",
              "    inputElement.addEventListener('change', (e) => {\n",
              "      resolve(e.target.files);\n",
              "    });\n",
              "  });\n",
              "\n",
              "  const cancel = document.createElement('button');\n",
              "  inputElement.parentElement.appendChild(cancel);\n",
              "  cancel.textContent = 'Cancel upload';\n",
              "  const cancelPromise = new Promise((resolve) => {\n",
              "    cancel.onclick = () => {\n",
              "      resolve(null);\n",
              "    };\n",
              "  });\n",
              "\n",
              "  // Wait for the user to pick the files.\n",
              "  const files = yield {\n",
              "    promise: Promise.race([pickedPromise, cancelPromise]),\n",
              "    response: {\n",
              "      action: 'starting',\n",
              "    }\n",
              "  };\n",
              "\n",
              "  cancel.remove();\n",
              "\n",
              "  // Disable the input element since further picks are not allowed.\n",
              "  inputElement.disabled = true;\n",
              "\n",
              "  if (!files) {\n",
              "    return {\n",
              "      response: {\n",
              "        action: 'complete',\n",
              "      }\n",
              "    };\n",
              "  }\n",
              "\n",
              "  for (const file of files) {\n",
              "    const li = document.createElement('li');\n",
              "    li.append(span(file.name, {fontWeight: 'bold'}));\n",
              "    li.append(span(\n",
              "        `(${file.type || 'n/a'}) - ${file.size} bytes, ` +\n",
              "        `last modified: ${\n",
              "            file.lastModifiedDate ? file.lastModifiedDate.toLocaleDateString() :\n",
              "                                    'n/a'} - `));\n",
              "    const percent = span('0% done');\n",
              "    li.appendChild(percent);\n",
              "\n",
              "    outputElement.appendChild(li);\n",
              "\n",
              "    const fileDataPromise = new Promise((resolve) => {\n",
              "      const reader = new FileReader();\n",
              "      reader.onload = (e) => {\n",
              "        resolve(e.target.result);\n",
              "      };\n",
              "      reader.readAsArrayBuffer(file);\n",
              "    });\n",
              "    // Wait for the data to be ready.\n",
              "    let fileData = yield {\n",
              "      promise: fileDataPromise,\n",
              "      response: {\n",
              "        action: 'continue',\n",
              "      }\n",
              "    };\n",
              "\n",
              "    // Use a chunked sending to avoid message size limits. See b/62115660.\n",
              "    let position = 0;\n",
              "    do {\n",
              "      const length = Math.min(fileData.byteLength - position, MAX_PAYLOAD_SIZE);\n",
              "      const chunk = new Uint8Array(fileData, position, length);\n",
              "      position += length;\n",
              "\n",
              "      const base64 = btoa(String.fromCharCode.apply(null, chunk));\n",
              "      yield {\n",
              "        response: {\n",
              "          action: 'append',\n",
              "          file: file.name,\n",
              "          data: base64,\n",
              "        },\n",
              "      };\n",
              "\n",
              "      let percentDone = fileData.byteLength === 0 ?\n",
              "          100 :\n",
              "          Math.round((position / fileData.byteLength) * 100);\n",
              "      percent.textContent = `${percentDone}% done`;\n",
              "\n",
              "    } while (position < fileData.byteLength);\n",
              "  }\n",
              "\n",
              "  // All done.\n",
              "  yield {\n",
              "    response: {\n",
              "      action: 'complete',\n",
              "    }\n",
              "  };\n",
              "}\n",
              "\n",
              "scope.google = scope.google || {};\n",
              "scope.google.colab = scope.google.colab || {};\n",
              "scope.google.colab._files = {\n",
              "  _uploadFiles,\n",
              "  _uploadFilesContinue,\n",
              "};\n",
              "})(self);\n",
              "</script> "
            ]
          },
          "metadata": {}
        },
        {
          "output_type": "stream",
          "name": "stdout",
          "text": [
            "Saving dataset2.csv to dataset2 (1).csv\n"
          ]
        }
      ]
    },
    {
      "cell_type": "code",
      "source": [
        "df = pd.read_csv(io.BytesIO(uploaded['dataset2.csv']), header=None)\n",
        "df.head(3)"
      ],
      "metadata": {
        "id": "viqO9F4yeKFO",
        "colab": {
          "base_uri": "https://localhost:8080/",
          "height": 143
        },
        "outputId": "743e5c4b-fecc-4cab-f16d-a164b276d955"
      },
      "execution_count": null,
      "outputs": [
        {
          "output_type": "execute_result",
          "data": {
            "text/plain": [
              "          0          1          2\n",
              "0 -6.126607  17.645113   6.095544\n",
              "1  5.602577   5.034192 -10.091931\n",
              "2  2.179934   9.876991   7.160241"
            ],
            "text/html": [
              "\n",
              "  <div id=\"df-dc40a57e-b0f5-43d1-bc18-b0fec6197c75\">\n",
              "    <div class=\"colab-df-container\">\n",
              "      <div>\n",
              "<style scoped>\n",
              "    .dataframe tbody tr th:only-of-type {\n",
              "        vertical-align: middle;\n",
              "    }\n",
              "\n",
              "    .dataframe tbody tr th {\n",
              "        vertical-align: top;\n",
              "    }\n",
              "\n",
              "    .dataframe thead th {\n",
              "        text-align: right;\n",
              "    }\n",
              "</style>\n",
              "<table border=\"1\" class=\"dataframe\">\n",
              "  <thead>\n",
              "    <tr style=\"text-align: right;\">\n",
              "      <th></th>\n",
              "      <th>0</th>\n",
              "      <th>1</th>\n",
              "      <th>2</th>\n",
              "    </tr>\n",
              "  </thead>\n",
              "  <tbody>\n",
              "    <tr>\n",
              "      <th>0</th>\n",
              "      <td>-6.126607</td>\n",
              "      <td>17.645113</td>\n",
              "      <td>6.095544</td>\n",
              "    </tr>\n",
              "    <tr>\n",
              "      <th>1</th>\n",
              "      <td>5.602577</td>\n",
              "      <td>5.034192</td>\n",
              "      <td>-10.091931</td>\n",
              "    </tr>\n",
              "    <tr>\n",
              "      <th>2</th>\n",
              "      <td>2.179934</td>\n",
              "      <td>9.876991</td>\n",
              "      <td>7.160241</td>\n",
              "    </tr>\n",
              "  </tbody>\n",
              "</table>\n",
              "</div>\n",
              "      <button class=\"colab-df-convert\" onclick=\"convertToInteractive('df-dc40a57e-b0f5-43d1-bc18-b0fec6197c75')\"\n",
              "              title=\"Convert this dataframe to an interactive table.\"\n",
              "              style=\"display:none;\">\n",
              "        \n",
              "  <svg xmlns=\"http://www.w3.org/2000/svg\" height=\"24px\"viewBox=\"0 0 24 24\"\n",
              "       width=\"24px\">\n",
              "    <path d=\"M0 0h24v24H0V0z\" fill=\"none\"/>\n",
              "    <path d=\"M18.56 5.44l.94 2.06.94-2.06 2.06-.94-2.06-.94-.94-2.06-.94 2.06-2.06.94zm-11 1L8.5 8.5l.94-2.06 2.06-.94-2.06-.94L8.5 2.5l-.94 2.06-2.06.94zm10 10l.94 2.06.94-2.06 2.06-.94-2.06-.94-.94-2.06-.94 2.06-2.06.94z\"/><path d=\"M17.41 7.96l-1.37-1.37c-.4-.4-.92-.59-1.43-.59-.52 0-1.04.2-1.43.59L10.3 9.45l-7.72 7.72c-.78.78-.78 2.05 0 2.83L4 21.41c.39.39.9.59 1.41.59.51 0 1.02-.2 1.41-.59l7.78-7.78 2.81-2.81c.8-.78.8-2.07 0-2.86zM5.41 20L4 18.59l7.72-7.72 1.47 1.35L5.41 20z\"/>\n",
              "  </svg>\n",
              "      </button>\n",
              "      \n",
              "  <style>\n",
              "    .colab-df-container {\n",
              "      display:flex;\n",
              "      flex-wrap:wrap;\n",
              "      gap: 12px;\n",
              "    }\n",
              "\n",
              "    .colab-df-convert {\n",
              "      background-color: #E8F0FE;\n",
              "      border: none;\n",
              "      border-radius: 50%;\n",
              "      cursor: pointer;\n",
              "      display: none;\n",
              "      fill: #1967D2;\n",
              "      height: 32px;\n",
              "      padding: 0 0 0 0;\n",
              "      width: 32px;\n",
              "    }\n",
              "\n",
              "    .colab-df-convert:hover {\n",
              "      background-color: #E2EBFA;\n",
              "      box-shadow: 0px 1px 2px rgba(60, 64, 67, 0.3), 0px 1px 3px 1px rgba(60, 64, 67, 0.15);\n",
              "      fill: #174EA6;\n",
              "    }\n",
              "\n",
              "    [theme=dark] .colab-df-convert {\n",
              "      background-color: #3B4455;\n",
              "      fill: #D2E3FC;\n",
              "    }\n",
              "\n",
              "    [theme=dark] .colab-df-convert:hover {\n",
              "      background-color: #434B5C;\n",
              "      box-shadow: 0px 1px 3px 1px rgba(0, 0, 0, 0.15);\n",
              "      filter: drop-shadow(0px 1px 2px rgba(0, 0, 0, 0.3));\n",
              "      fill: #FFFFFF;\n",
              "    }\n",
              "  </style>\n",
              "\n",
              "      <script>\n",
              "        const buttonEl =\n",
              "          document.querySelector('#df-dc40a57e-b0f5-43d1-bc18-b0fec6197c75 button.colab-df-convert');\n",
              "        buttonEl.style.display =\n",
              "          google.colab.kernel.accessAllowed ? 'block' : 'none';\n",
              "\n",
              "        async function convertToInteractive(key) {\n",
              "          const element = document.querySelector('#df-dc40a57e-b0f5-43d1-bc18-b0fec6197c75');\n",
              "          const dataTable =\n",
              "            await google.colab.kernel.invokeFunction('convertToInteractive',\n",
              "                                                     [key], {});\n",
              "          if (!dataTable) return;\n",
              "\n",
              "          const docLinkHtml = 'Like what you see? Visit the ' +\n",
              "            '<a target=\"_blank\" href=https://colab.research.google.com/notebooks/data_table.ipynb>data table notebook</a>'\n",
              "            + ' to learn more about interactive tables.';\n",
              "          element.innerHTML = '';\n",
              "          dataTable['output_type'] = 'display_data';\n",
              "          await google.colab.output.renderOutput(dataTable, element);\n",
              "          const docLink = document.createElement('div');\n",
              "          docLink.innerHTML = docLinkHtml;\n",
              "          element.appendChild(docLink);\n",
              "        }\n",
              "      </script>\n",
              "    </div>\n",
              "  </div>\n",
              "  "
            ]
          },
          "metadata": {},
          "execution_count": 3
        }
      ]
    },
    {
      "cell_type": "code",
      "source": [
        "distances = pdist(df, metric='euclidean')"
      ],
      "metadata": {
        "id": "CAzgq1rEfKT1"
      },
      "execution_count": null,
      "outputs": []
    },
    {
      "cell_type": "code",
      "source": [
        "# Perform hierarchical clustering using single linkage\n",
        "Z_single = linkage(distances, method='single')\n",
        "\n",
        "# Plot the dendrogram for single linkage\n",
        "plt.figure(figsize=(12, 8))\n",
        "dendrogram(Z_single)\n",
        "plt.xlabel('Example index')\n",
        "plt.ylabel('Distance')\n",
        "plt.title('Dendrogram (Single linkage)')\n",
        "plt.show()"
      ],
      "metadata": {
        "id": "M1kyg7f_gGxY",
        "colab": {
          "base_uri": "https://localhost:8080/",
          "height": 519
        },
        "outputId": "d4dd5c8a-f4d9-4130-d145-34fca51724b1"
      },
      "execution_count": null,
      "outputs": [
        {
          "output_type": "display_data",
          "data": {
            "text/plain": [
              "<Figure size 864x576 with 1 Axes>"
            ],
            "image/png": "[encoded data removed]"
          },
          "metadata": {
            "needs_background": "light"
          }
        }
      ]
    },
    {
      "cell_type": "markdown",
      "source": [
        "When creating dendrograms to visualize hierarchical clustering, we often want to determine the optimal number of clusters to use. One common approach is to use a threshold value to cut the dendrogram at the tallest vertical line. This threshold value determines how many clusters will be formed.\n",
        "\n",
        "However, it can be difficult to visually determine the tallest vertical line, especially when dealing with a large amount of data. One alternative method is to loop through different threshold values and observe the resulting number of clusters for each threshold.\n",
        "\n",
        "By doing so, we can identify the range of threshold values for which the number of clusters remains the same. This range of threshold values corresponds to a region where the vertical lines are all relatively tall.\n",
        "\n",
        "To determine the optimal number of clusters, we can simply choose the value that appears most frequently within this range of threshold values. This approach ensures that we are selecting a stable and consistent number of clusters, which can be useful for downstream analyses.\n",
        "\n",
        "\n",
        "\n",
        "\n",
        "\n"
      ],
      "metadata": {
        "id": "urmYZAGfvfQz"
      }
    },
    {
      "cell_type": "code",
      "source": [
        "from scipy.cluster.hierarchy import fcluster\n",
        "\n",
        "# Loop over a range of thresholds and output the number of clusters for each\n",
        "for threshold in np.arange(1, 1.2, 0.0125):\n",
        "    # Use fcluster to determine the final number of clusters\n",
        "    clusters = fcluster(Z_single, threshold, criterion='distance')\n",
        "\n",
        "    # Print the number of clusters\n",
        "    n_clusters = len(set(clusters))\n",
        "    print(\"Threshold:\", threshold, \"| Number of clusters:\", n_clusters)"
      ],
      "metadata": {
        "colab": {
          "base_uri": "https://localhost:8080/"
        },
        "id": "BhZoUWsVt-_9",
        "outputId": "bb78e966-1fb8-4f3b-e891-331f96914996"
      },
      "execution_count": null,
      "outputs": [
        {
          "output_type": "stream",
          "name": "stdout",
          "text": [
            "Threshold: 1.0 | Number of clusters: 5\n",
            "Threshold: 1.0125 | Number of clusters: 5\n",
            "Threshold: 1.025 | Number of clusters: 5\n",
            "Threshold: 1.0374999999999999 | Number of clusters: 4\n",
            "Threshold: 1.0499999999999998 | Number of clusters: 4\n",
            "Threshold: 1.0624999999999998 | Number of clusters: 4\n",
            "Threshold: 1.0749999999999997 | Number of clusters: 4\n",
            "Threshold: 1.0874999999999997 | Number of clusters: 4\n",
            "Threshold: 1.0999999999999996 | Number of clusters: 4\n",
            "Threshold: 1.1124999999999996 | Number of clusters: 4\n",
            "Threshold: 1.1249999999999996 | Number of clusters: 4\n",
            "Threshold: 1.1374999999999995 | Number of clusters: 4\n",
            "Threshold: 1.1499999999999995 | Number of clusters: 4\n",
            "Threshold: 1.1624999999999994 | Number of clusters: 3\n",
            "Threshold: 1.1749999999999994 | Number of clusters: 3\n",
            "Threshold: 1.1874999999999993 | Number of clusters: 3\n"
          ]
        }
      ]
    },
    {
      "cell_type": "markdown",
      "source": [
        "When analyzing the dendrogram created using single linkage, a threshold range of 1.037 to 1.145 resulted in the formation of 4 clusters. This range is the longest between the threshold values of 1 and 1.2, where the number of clusters remains constant."
      ],
      "metadata": {
        "id": "ehDLmwd5vOud"
      }
    },
    {
      "cell_type": "code",
      "source": [
        "# Perform hierarchical clustering using single linkage\n",
        "Z_avg = linkage(distances, method='average')\n",
        "\n",
        "# Plot the dendrogram for single linkage\n",
        "plt.figure(figsize=(12, 8))\n",
        "dendrogram(Z_avg)\n",
        "plt.xlabel('Example index')\n",
        "plt.ylabel('Distance')\n",
        "plt.title('Dendrogram (Average linkage)')\n",
        "plt.show()"
      ],
      "metadata": {
        "colab": {
          "base_uri": "https://localhost:8080/",
          "height": 519
        },
        "id": "ZzhJEXCtntgq",
        "outputId": "c0e9270a-7376-41c0-d591-4484cf34443b"
      },
      "execution_count": null,
      "outputs": [
        {
          "output_type": "display_data",
          "data": {
            "text/plain": [
              "<Figure size 864x576 with 1 Axes>"
            ],
            "image/png": "[encoded data removed]"
          },
          "metadata": {
            "needs_background": "light"
          }
        }
      ]
    },
    {
      "cell_type": "code",
      "source": [
        "from scipy.cluster.hierarchy import fcluster\n",
        "\n",
        "# Loop over a range of thresholds and output the number of clusters for each\n",
        "for threshold in np.arange(10, 16, 0.25):\n",
        "    # Use fcluster to determine the final number of clusters\n",
        "    clusters = fcluster(Z_avg, threshold, criterion='distance')\n",
        "\n",
        "    # Print the number of clusters\n",
        "    n_clusters = len(set(clusters))\n",
        "    print(\"Threshold:\", threshold, \"| Number of clusters:\", n_clusters)"
      ],
      "metadata": {
        "colab": {
          "base_uri": "https://localhost:8080/"
        },
        "id": "BaV5dDXLwGZC",
        "outputId": "21c2f815-601c-4aed-cc77-98ae054d1745"
      },
      "execution_count": null,
      "outputs": [
        {
          "output_type": "stream",
          "name": "stdout",
          "text": [
            "Threshold: 10.0 | Number of clusters: 11\n",
            "Threshold: 10.25 | Number of clusters: 9\n",
            "Threshold: 10.5 | Number of clusters: 9\n",
            "Threshold: 10.75 | Number of clusters: 9\n",
            "Threshold: 11.0 | Number of clusters: 9\n",
            "Threshold: 11.25 | Number of clusters: 7\n",
            "Threshold: 11.5 | Number of clusters: 7\n",
            "Threshold: 11.75 | Number of clusters: 7\n",
            "Threshold: 12.0 | Number of clusters: 7\n",
            "Threshold: 12.25 | Number of clusters: 7\n",
            "Threshold: 12.5 | Number of clusters: 7\n",
            "Threshold: 12.75 | Number of clusters: 7\n",
            "Threshold: 13.0 | Number of clusters: 6\n",
            "Threshold: 13.25 | Number of clusters: 6\n",
            "Threshold: 13.5 | Number of clusters: 4\n",
            "Threshold: 13.75 | Number of clusters: 4\n",
            "Threshold: 14.0 | Number of clusters: 4\n",
            "Threshold: 14.25 | Number of clusters: 3\n",
            "Threshold: 14.5 | Number of clusters: 3\n",
            "Threshold: 14.75 | Number of clusters: 2\n",
            "Threshold: 15.0 | Number of clusters: 2\n",
            "Threshold: 15.25 | Number of clusters: 2\n",
            "Threshold: 15.5 | Number of clusters: 2\n",
            "Threshold: 15.75 | Number of clusters: 2\n"
          ]
        }
      ]
    },
    {
      "cell_type": "markdown",
      "source": [
        "By examining the dendrogram constructed with average linkage on the otherhand, it was observed that a range of threshold values between 11.25 and 12.75 led to the formation of 7 distinct clusters. This threshold range represents the most extended span between the values of 10 and 16, where the number of clusters did not change."
      ],
      "metadata": {
        "id": "oVH-VJn2247H"
      }
    }
  ]
}